{
 "cells": [
  {
   "cell_type": "markdown",
   "metadata": {},
   "source": [
    "# Capstone Project : Used Cars Price Prediction"
   ]
  },
  {
   "cell_type": "markdown",
   "metadata": {},
   "source": [
    "    1. get the data\n",
    "\n",
    "    2.discovery in visualiztion\n",
    "    > graph\n",
    "    > perform distribution(histogram,boxplot)\n",
    "    > perform outlier\n",
    "    > perform correlation matrix\n",
    "    \n",
    "    3. preprocessing\n",
    "    > handle missing values\n",
    "    > prform feature scaling\n",
    "    > perform one hot encoding  "
   ]
  },
  {
   "cell_type": "code",
   "execution_count": 1,
   "metadata": {},
   "outputs": [],
   "source": [
    "import numpy as np\n",
    "import pandas as pd\n",
    "import matplotlib.pyplot as plt\n",
    "import seaborn as sns"
   ]
  },
  {
   "cell_type": "code",
   "execution_count": 2,
   "metadata": {},
   "outputs": [
    {
     "data": {
      "text/html": [
       "<div>\n",
       "<style scoped>\n",
       "    .dataframe tbody tr th:only-of-type {\n",
       "        vertical-align: middle;\n",
       "    }\n",
       "\n",
       "    .dataframe tbody tr th {\n",
       "        vertical-align: top;\n",
       "    }\n",
       "\n",
       "    .dataframe thead th {\n",
       "        text-align: right;\n",
       "    }\n",
       "</style>\n",
       "<table border=\"1\" class=\"dataframe\">\n",
       "  <thead>\n",
       "    <tr style=\"text-align: right;\">\n",
       "      <th></th>\n",
       "      <th>Unnamed: 0</th>\n",
       "      <th>region</th>\n",
       "      <th>price</th>\n",
       "      <th>manufacturer</th>\n",
       "      <th>model</th>\n",
       "      <th>condition</th>\n",
       "      <th>cylinders</th>\n",
       "      <th>fuel</th>\n",
       "      <th>odometer</th>\n",
       "      <th>title_status</th>\n",
       "      <th>...</th>\n",
       "      <th>VIN</th>\n",
       "      <th>drive</th>\n",
       "      <th>type</th>\n",
       "      <th>paint_color</th>\n",
       "      <th>description</th>\n",
       "      <th>state</th>\n",
       "      <th>lat</th>\n",
       "      <th>long</th>\n",
       "      <th>posting_date</th>\n",
       "      <th>age</th>\n",
       "    </tr>\n",
       "  </thead>\n",
       "  <tbody>\n",
       "    <tr>\n",
       "      <th>0</th>\n",
       "      <td>0</td>\n",
       "      <td>sacramento</td>\n",
       "      <td>339998</td>\n",
       "      <td>NaN</td>\n",
       "      <td>LAMBORGHINI AVENTADOR</td>\n",
       "      <td>NaN</td>\n",
       "      <td>4.0</td>\n",
       "      <td>gas</td>\n",
       "      <td>5915.0</td>\n",
       "      <td>clean</td>\n",
       "      <td>...</td>\n",
       "      <td>ZHWUG4ZD2JLA06953</td>\n",
       "      <td>NaN</td>\n",
       "      <td>coupe</td>\n",
       "      <td>NaN</td>\n",
       "      <td>2018 Lamborghini Aventador LP 740 4 S AWD 2dr ...</td>\n",
       "      <td>ca</td>\n",
       "      <td>38.574553</td>\n",
       "      <td>-121.257580</td>\n",
       "      <td>2020-12-02T10:36:44-0800</td>\n",
       "      <td>3.0</td>\n",
       "    </tr>\n",
       "    <tr>\n",
       "      <th>1</th>\n",
       "      <td>1</td>\n",
       "      <td>worcester / central MA</td>\n",
       "      <td>325000</td>\n",
       "      <td>ferrari</td>\n",
       "      <td>488 spider</td>\n",
       "      <td>NaN</td>\n",
       "      <td>4.0</td>\n",
       "      <td>gas</td>\n",
       "      <td>684.0</td>\n",
       "      <td>clean</td>\n",
       "      <td>...</td>\n",
       "      <td>ZFF80AMA4K0242130</td>\n",
       "      <td>rwd</td>\n",
       "      <td>convertible</td>\n",
       "      <td>NaN</td>\n",
       "      <td>HighOctane Classics address:    143 Washington...</td>\n",
       "      <td>ma</td>\n",
       "      <td>42.209970</td>\n",
       "      <td>-71.807702</td>\n",
       "      <td>2020-11-24T09:04:51-0500</td>\n",
       "      <td>2.0</td>\n",
       "    </tr>\n",
       "  </tbody>\n",
       "</table>\n",
       "<p>2 rows × 21 columns</p>\n",
       "</div>"
      ],
      "text/plain": [
       "   Unnamed: 0                  region   price manufacturer  \\\n",
       "0           0              sacramento  339998          NaN   \n",
       "1           1  worcester / central MA  325000      ferrari   \n",
       "\n",
       "                   model condition  cylinders fuel  odometer title_status  \\\n",
       "0  LAMBORGHINI AVENTADOR       NaN        4.0  gas    5915.0        clean   \n",
       "1             488 spider       NaN        4.0  gas     684.0        clean   \n",
       "\n",
       "   ...                VIN drive         type paint_color  \\\n",
       "0  ...  ZHWUG4ZD2JLA06953   NaN        coupe         NaN   \n",
       "1  ...  ZFF80AMA4K0242130   rwd  convertible         NaN   \n",
       "\n",
       "                                         description state        lat  \\\n",
       "0  2018 Lamborghini Aventador LP 740 4 S AWD 2dr ...    ca  38.574553   \n",
       "1  HighOctane Classics address:    143 Washington...    ma  42.209970   \n",
       "\n",
       "         long              posting_date  age  \n",
       "0 -121.257580  2020-12-02T10:36:44-0800  3.0  \n",
       "1  -71.807702  2020-11-24T09:04:51-0500  2.0  \n",
       "\n",
       "[2 rows x 21 columns]"
      ]
     },
     "execution_count": 2,
     "metadata": {},
     "output_type": "execute_result"
    }
   ],
   "source": [
    "cars = pd.read_csv('Updated 14-3-2021.csv')\n",
    "cars.head(2)"
   ]
  },
  {
   "cell_type": "code",
   "execution_count": 3,
   "metadata": {},
   "outputs": [
    {
     "data": {
      "text/plain": [
       "clean         0.965297\n",
       "rebuilt       0.020054\n",
       "salvage       0.007680\n",
       "lien          0.006851\n",
       "missing       0.000071\n",
       "parts only    0.000047\n",
       "Name: title_status, dtype: float64"
      ]
     },
     "execution_count": 3,
     "metadata": {},
     "output_type": "execute_result"
    }
   ],
   "source": [
    "cars['title_status'].value_counts(normalize=True)"
   ]
  },
  {
   "cell_type": "code",
   "execution_count": 4,
   "metadata": {},
   "outputs": [],
   "source": [
    "# We want to consider that car which is in good shape\n",
    "cars=cars[cars['title_status']=='clean']"
   ]
  },
  {
   "cell_type": "code",
   "execution_count": 5,
   "metadata": {},
   "outputs": [],
   "source": [
    "# dropping the first irrelevant column from the dataset\n",
    "cars.drop(columns=['Unnamed: 0','title_status'],inplace=True)"
   ]
  },
  {
   "cell_type": "code",
   "execution_count": 6,
   "metadata": {},
   "outputs": [
    {
     "name": "stdout",
     "output_type": "stream",
     "text": [
      "<class 'pandas.core.frame.DataFrame'>\n",
      "Int64Index: 81444 entries, 0 to 84654\n",
      "Data columns (total 19 columns):\n",
      " #   Column        Non-Null Count  Dtype  \n",
      "---  ------        --------------  -----  \n",
      " 0   region        81444 non-null  object \n",
      " 1   price         81444 non-null  int64  \n",
      " 2   manufacturer  80534 non-null  object \n",
      " 3   model         81328 non-null  object \n",
      " 4   condition     43237 non-null  object \n",
      " 5   cylinders     81444 non-null  float64\n",
      " 6   fuel          80729 non-null  object \n",
      " 7   odometer      81444 non-null  float64\n",
      " 8   transmission  80959 non-null  object \n",
      " 9   VIN           68411 non-null  object \n",
      " 10  drive         62196 non-null  object \n",
      " 11  type          69830 non-null  object \n",
      " 12  paint_color   60020 non-null  object \n",
      " 13  description   81442 non-null  object \n",
      " 14  state         81444 non-null  object \n",
      " 15  lat           80867 non-null  float64\n",
      " 16  long          80867 non-null  float64\n",
      " 17  posting_date  81444 non-null  object \n",
      " 18  age           81444 non-null  float64\n",
      "dtypes: float64(5), int64(1), object(13)\n",
      "memory usage: 12.4+ MB\n"
     ]
    }
   ],
   "source": [
    "cars.info()"
   ]
  },
  {
   "cell_type": "code",
   "execution_count": 9,
   "metadata": {},
   "outputs": [
    {
     "data": {
      "text/html": [
       "<div>\n",
       "<style scoped>\n",
       "    .dataframe tbody tr th:only-of-type {\n",
       "        vertical-align: middle;\n",
       "    }\n",
       "\n",
       "    .dataframe tbody tr th {\n",
       "        vertical-align: top;\n",
       "    }\n",
       "\n",
       "    .dataframe thead th {\n",
       "        text-align: right;\n",
       "    }\n",
       "</style>\n",
       "<table border=\"1\" class=\"dataframe\">\n",
       "  <thead>\n",
       "    <tr style=\"text-align: right;\">\n",
       "      <th></th>\n",
       "      <th>region</th>\n",
       "      <th>price</th>\n",
       "      <th>manufacturer</th>\n",
       "      <th>model</th>\n",
       "      <th>condition</th>\n",
       "      <th>cylinders</th>\n",
       "      <th>fuel</th>\n",
       "      <th>odometer</th>\n",
       "      <th>transmission</th>\n",
       "      <th>VIN</th>\n",
       "      <th>drive</th>\n",
       "      <th>type</th>\n",
       "      <th>paint_color</th>\n",
       "      <th>description</th>\n",
       "      <th>state</th>\n",
       "      <th>lat</th>\n",
       "      <th>long</th>\n",
       "      <th>posting_date</th>\n",
       "      <th>age</th>\n",
       "    </tr>\n",
       "  </thead>\n",
       "  <tbody>\n",
       "    <tr>\n",
       "      <th>0</th>\n",
       "      <td>sacramento</td>\n",
       "      <td>339998</td>\n",
       "      <td>NaN</td>\n",
       "      <td>LAMBORGHINI AVENTADOR</td>\n",
       "      <td>NaN</td>\n",
       "      <td>4.0</td>\n",
       "      <td>gas</td>\n",
       "      <td>5915.0</td>\n",
       "      <td>automatic</td>\n",
       "      <td>ZHWUG4ZD2JLA06953</td>\n",
       "      <td>NaN</td>\n",
       "      <td>coupe</td>\n",
       "      <td>NaN</td>\n",
       "      <td>2018 Lamborghini Aventador LP 740 4 S AWD 2dr ...</td>\n",
       "      <td>ca</td>\n",
       "      <td>38.574553</td>\n",
       "      <td>-121.257580</td>\n",
       "      <td>2020-12-02T10:36:44-0800</td>\n",
       "      <td>3.0</td>\n",
       "    </tr>\n",
       "    <tr>\n",
       "      <th>1</th>\n",
       "      <td>worcester / central MA</td>\n",
       "      <td>325000</td>\n",
       "      <td>ferrari</td>\n",
       "      <td>488 spider</td>\n",
       "      <td>NaN</td>\n",
       "      <td>4.0</td>\n",
       "      <td>gas</td>\n",
       "      <td>684.0</td>\n",
       "      <td>automatic</td>\n",
       "      <td>ZFF80AMA4K0242130</td>\n",
       "      <td>rwd</td>\n",
       "      <td>convertible</td>\n",
       "      <td>NaN</td>\n",
       "      <td>HighOctane Classics address:    143 Washington...</td>\n",
       "      <td>ma</td>\n",
       "      <td>42.209970</td>\n",
       "      <td>-71.807702</td>\n",
       "      <td>2020-11-24T09:04:51-0500</td>\n",
       "      <td>2.0</td>\n",
       "    </tr>\n",
       "    <tr>\n",
       "      <th>2</th>\n",
       "      <td>san antonio</td>\n",
       "      <td>319000</td>\n",
       "      <td>ferrari</td>\n",
       "      <td>488 spider convertible</td>\n",
       "      <td>NaN</td>\n",
       "      <td>4.0</td>\n",
       "      <td>NaN</td>\n",
       "      <td>1233.0</td>\n",
       "      <td>automatic</td>\n",
       "      <td>ZFF80AMA2K0238691</td>\n",
       "      <td>rwd</td>\n",
       "      <td>convertible</td>\n",
       "      <td>custom</td>\n",
       "      <td>2019 Ferrari 488 Spider Convertible        Cal...</td>\n",
       "      <td>tx</td>\n",
       "      <td>29.529409</td>\n",
       "      <td>-98.496166</td>\n",
       "      <td>2020-11-22T09:45:19-0600</td>\n",
       "      <td>2.0</td>\n",
       "    </tr>\n",
       "    <tr>\n",
       "      <th>11</th>\n",
       "      <td>san diego</td>\n",
       "      <td>285888</td>\n",
       "      <td>ferrari</td>\n",
       "      <td>488 spider</td>\n",
       "      <td>NaN</td>\n",
       "      <td>8.0</td>\n",
       "      <td>gas</td>\n",
       "      <td>2862.0</td>\n",
       "      <td>automatic</td>\n",
       "      <td>ZFF80AMA8H0220253</td>\n",
       "      <td>rwd</td>\n",
       "      <td>convertible</td>\n",
       "      <td>red</td>\n",
       "      <td>🚗2017 Ferrari 488 Spider Convertible🚗Exterior ...</td>\n",
       "      <td>ca</td>\n",
       "      <td>32.991085</td>\n",
       "      <td>-117.197375</td>\n",
       "      <td>2020-12-02T11:18:21-0800</td>\n",
       "      <td>4.0</td>\n",
       "    </tr>\n",
       "    <tr>\n",
       "      <th>12</th>\n",
       "      <td>orange county</td>\n",
       "      <td>279888</td>\n",
       "      <td>ferrari</td>\n",
       "      <td>488 spider</td>\n",
       "      <td>like new</td>\n",
       "      <td>8.0</td>\n",
       "      <td>gas</td>\n",
       "      <td>5900.0</td>\n",
       "      <td>automatic</td>\n",
       "      <td>NaN</td>\n",
       "      <td>NaN</td>\n",
       "      <td>NaN</td>\n",
       "      <td>black</td>\n",
       "      <td>Only 5900 Miles On This Beautiful 1 Owner 488 ...</td>\n",
       "      <td>ca</td>\n",
       "      <td>33.680100</td>\n",
       "      <td>-117.908500</td>\n",
       "      <td>2020-11-30T07:25:59-0800</td>\n",
       "      <td>4.0</td>\n",
       "    </tr>\n",
       "    <tr>\n",
       "      <th>...</th>\n",
       "      <td>...</td>\n",
       "      <td>...</td>\n",
       "      <td>...</td>\n",
       "      <td>...</td>\n",
       "      <td>...</td>\n",
       "      <td>...</td>\n",
       "      <td>...</td>\n",
       "      <td>...</td>\n",
       "      <td>...</td>\n",
       "      <td>...</td>\n",
       "      <td>...</td>\n",
       "      <td>...</td>\n",
       "      <td>...</td>\n",
       "      <td>...</td>\n",
       "      <td>...</td>\n",
       "      <td>...</td>\n",
       "      <td>...</td>\n",
       "      <td>...</td>\n",
       "      <td>...</td>\n",
       "    </tr>\n",
       "    <tr>\n",
       "      <th>84650</th>\n",
       "      <td>eugene</td>\n",
       "      <td>103</td>\n",
       "      <td>nissan</td>\n",
       "      <td>sentra s cvt</td>\n",
       "      <td>NaN</td>\n",
       "      <td>4.0</td>\n",
       "      <td>gas</td>\n",
       "      <td>73817.0</td>\n",
       "      <td>automatic</td>\n",
       "      <td>3N1AB7AP3JY269333</td>\n",
       "      <td>fwd</td>\n",
       "      <td>sedan</td>\n",
       "      <td>NaN</td>\n",
       "      <td>2018 Nissan Sentra S CVT Lithia Toyota of Spri...</td>\n",
       "      <td>or</td>\n",
       "      <td>44.045388</td>\n",
       "      <td>-123.013980</td>\n",
       "      <td>2020-12-02T09:27:30-0800</td>\n",
       "      <td>3.0</td>\n",
       "    </tr>\n",
       "    <tr>\n",
       "      <th>84651</th>\n",
       "      <td>ocala</td>\n",
       "      <td>103</td>\n",
       "      <td>hyundai</td>\n",
       "      <td>accent se</td>\n",
       "      <td>excellent</td>\n",
       "      <td>4.0</td>\n",
       "      <td>gas</td>\n",
       "      <td>67125.0</td>\n",
       "      <td>automatic</td>\n",
       "      <td>KMHCT4AE3HU187420</td>\n",
       "      <td>NaN</td>\n",
       "      <td>sedan</td>\n",
       "      <td>NaN</td>\n",
       "      <td>$103/mo - 2017 Hyundai *Accent* *SE* - 100 App...</td>\n",
       "      <td>fl</td>\n",
       "      <td>28.329017</td>\n",
       "      <td>-81.404223</td>\n",
       "      <td>2020-11-24T10:01:03-0500</td>\n",
       "      <td>4.0</td>\n",
       "    </tr>\n",
       "    <tr>\n",
       "      <th>84652</th>\n",
       "      <td>eugene</td>\n",
       "      <td>103</td>\n",
       "      <td>nissan</td>\n",
       "      <td>versa</td>\n",
       "      <td>NaN</td>\n",
       "      <td>4.0</td>\n",
       "      <td>gas</td>\n",
       "      <td>61238.0</td>\n",
       "      <td>automatic</td>\n",
       "      <td>3N1CN7AP6HL822998</td>\n",
       "      <td>fwd</td>\n",
       "      <td>sedan</td>\n",
       "      <td>NaN</td>\n",
       "      <td>Lithia Nissan Of Eugene        STOCK #:  N8229...</td>\n",
       "      <td>or</td>\n",
       "      <td>44.066500</td>\n",
       "      <td>-123.080966</td>\n",
       "      <td>2020-11-24T07:19:07-0800</td>\n",
       "      <td>4.0</td>\n",
       "    </tr>\n",
       "    <tr>\n",
       "      <th>84653</th>\n",
       "      <td>lakeland</td>\n",
       "      <td>103</td>\n",
       "      <td>hyundai</td>\n",
       "      <td>accent se</td>\n",
       "      <td>excellent</td>\n",
       "      <td>4.0</td>\n",
       "      <td>gas</td>\n",
       "      <td>67125.0</td>\n",
       "      <td>automatic</td>\n",
       "      <td>KMHCT4AE3HU187420</td>\n",
       "      <td>NaN</td>\n",
       "      <td>sedan</td>\n",
       "      <td>NaN</td>\n",
       "      <td>$103/mo - 2017 Hyundai Accent SE - 100 Approve...</td>\n",
       "      <td>fl</td>\n",
       "      <td>28.329017</td>\n",
       "      <td>-81.404223</td>\n",
       "      <td>2020-11-25T11:05:17-0500</td>\n",
       "      <td>4.0</td>\n",
       "    </tr>\n",
       "    <tr>\n",
       "      <th>84654</th>\n",
       "      <td>eugene</td>\n",
       "      <td>103</td>\n",
       "      <td>nissan</td>\n",
       "      <td>sentra s cvt</td>\n",
       "      <td>NaN</td>\n",
       "      <td>4.0</td>\n",
       "      <td>gas</td>\n",
       "      <td>64069.0</td>\n",
       "      <td>automatic</td>\n",
       "      <td>3N1AB7AP3JY257814</td>\n",
       "      <td>fwd</td>\n",
       "      <td>sedan</td>\n",
       "      <td>NaN</td>\n",
       "      <td>2018 Nissan Sentra S CVT Lithia Toyota of Spri...</td>\n",
       "      <td>or</td>\n",
       "      <td>44.045388</td>\n",
       "      <td>-123.013980</td>\n",
       "      <td>2020-12-02T09:09:28-0800</td>\n",
       "      <td>3.0</td>\n",
       "    </tr>\n",
       "  </tbody>\n",
       "</table>\n",
       "<p>81444 rows × 19 columns</p>\n",
       "</div>"
      ],
      "text/plain": [
       "                       region   price manufacturer                   model  \\\n",
       "0                  sacramento  339998          NaN   LAMBORGHINI AVENTADOR   \n",
       "1      worcester / central MA  325000      ferrari              488 spider   \n",
       "2                 san antonio  319000      ferrari  488 spider convertible   \n",
       "11                  san diego  285888      ferrari              488 spider   \n",
       "12              orange county  279888      ferrari              488 spider   \n",
       "...                       ...     ...          ...                     ...   \n",
       "84650                  eugene     103       nissan            sentra s cvt   \n",
       "84651                   ocala     103      hyundai               accent se   \n",
       "84652                  eugene     103       nissan                   versa   \n",
       "84653                lakeland     103      hyundai               accent se   \n",
       "84654                  eugene     103       nissan            sentra s cvt   \n",
       "\n",
       "       condition  cylinders fuel  odometer transmission                VIN  \\\n",
       "0            NaN        4.0  gas    5915.0    automatic  ZHWUG4ZD2JLA06953   \n",
       "1            NaN        4.0  gas     684.0    automatic  ZFF80AMA4K0242130   \n",
       "2            NaN        4.0  NaN    1233.0    automatic  ZFF80AMA2K0238691   \n",
       "11           NaN        8.0  gas    2862.0    automatic  ZFF80AMA8H0220253   \n",
       "12      like new        8.0  gas    5900.0    automatic                NaN   \n",
       "...          ...        ...  ...       ...          ...                ...   \n",
       "84650        NaN        4.0  gas   73817.0    automatic  3N1AB7AP3JY269333   \n",
       "84651  excellent        4.0  gas   67125.0    automatic  KMHCT4AE3HU187420   \n",
       "84652        NaN        4.0  gas   61238.0    automatic  3N1CN7AP6HL822998   \n",
       "84653  excellent        4.0  gas   67125.0    automatic  KMHCT4AE3HU187420   \n",
       "84654        NaN        4.0  gas   64069.0    automatic  3N1AB7AP3JY257814   \n",
       "\n",
       "      drive         type paint_color  \\\n",
       "0       NaN        coupe         NaN   \n",
       "1       rwd  convertible         NaN   \n",
       "2       rwd  convertible      custom   \n",
       "11      rwd  convertible         red   \n",
       "12      NaN          NaN       black   \n",
       "...     ...          ...         ...   \n",
       "84650   fwd        sedan         NaN   \n",
       "84651   NaN        sedan         NaN   \n",
       "84652   fwd        sedan         NaN   \n",
       "84653   NaN        sedan         NaN   \n",
       "84654   fwd        sedan         NaN   \n",
       "\n",
       "                                             description state        lat  \\\n",
       "0      2018 Lamborghini Aventador LP 740 4 S AWD 2dr ...    ca  38.574553   \n",
       "1      HighOctane Classics address:    143 Washington...    ma  42.209970   \n",
       "2      2019 Ferrari 488 Spider Convertible        Cal...    tx  29.529409   \n",
       "11     🚗2017 Ferrari 488 Spider Convertible🚗Exterior ...    ca  32.991085   \n",
       "12     Only 5900 Miles On This Beautiful 1 Owner 488 ...    ca  33.680100   \n",
       "...                                                  ...   ...        ...   \n",
       "84650  2018 Nissan Sentra S CVT Lithia Toyota of Spri...    or  44.045388   \n",
       "84651  $103/mo - 2017 Hyundai *Accent* *SE* - 100 App...    fl  28.329017   \n",
       "84652  Lithia Nissan Of Eugene        STOCK #:  N8229...    or  44.066500   \n",
       "84653  $103/mo - 2017 Hyundai Accent SE - 100 Approve...    fl  28.329017   \n",
       "84654  2018 Nissan Sentra S CVT Lithia Toyota of Spri...    or  44.045388   \n",
       "\n",
       "             long              posting_date  age  \n",
       "0     -121.257580  2020-12-02T10:36:44-0800  3.0  \n",
       "1      -71.807702  2020-11-24T09:04:51-0500  2.0  \n",
       "2      -98.496166  2020-11-22T09:45:19-0600  2.0  \n",
       "11    -117.197375  2020-12-02T11:18:21-0800  4.0  \n",
       "12    -117.908500  2020-11-30T07:25:59-0800  4.0  \n",
       "...           ...                       ...  ...  \n",
       "84650 -123.013980  2020-12-02T09:27:30-0800  3.0  \n",
       "84651  -81.404223  2020-11-24T10:01:03-0500  4.0  \n",
       "84652 -123.080966  2020-11-24T07:19:07-0800  4.0  \n",
       "84653  -81.404223  2020-11-25T11:05:17-0500  4.0  \n",
       "84654 -123.013980  2020-12-02T09:09:28-0800  3.0  \n",
       "\n",
       "[81444 rows x 19 columns]"
      ]
     },
     "execution_count": 9,
     "metadata": {},
     "output_type": "execute_result"
    }
   ],
   "source": [
    "cars"
   ]
  },
  {
   "cell_type": "code",
   "execution_count": 90,
   "metadata": {},
   "outputs": [],
   "source": [
    "cars.reset_index(drop=True,inplace=True)"
   ]
  },
  {
   "cell_type": "code",
   "execution_count": 13,
   "metadata": {},
   "outputs": [
    {
     "data": {
      "text/html": [
       "<div>\n",
       "<style scoped>\n",
       "    .dataframe tbody tr th:only-of-type {\n",
       "        vertical-align: middle;\n",
       "    }\n",
       "\n",
       "    .dataframe tbody tr th {\n",
       "        vertical-align: top;\n",
       "    }\n",
       "\n",
       "    .dataframe thead th {\n",
       "        text-align: right;\n",
       "    }\n",
       "</style>\n",
       "<table border=\"1\" class=\"dataframe\">\n",
       "  <thead>\n",
       "    <tr style=\"text-align: right;\">\n",
       "      <th></th>\n",
       "      <th>price</th>\n",
       "      <th>cylinders</th>\n",
       "      <th>odometer</th>\n",
       "      <th>lat</th>\n",
       "      <th>long</th>\n",
       "      <th>age</th>\n",
       "    </tr>\n",
       "  </thead>\n",
       "  <tbody>\n",
       "    <tr>\n",
       "      <th>count</th>\n",
       "      <td>81444.000000</td>\n",
       "      <td>81444.000000</td>\n",
       "      <td>8.144400e+04</td>\n",
       "      <td>80867.000000</td>\n",
       "      <td>80867.000000</td>\n",
       "      <td>81444.000000</td>\n",
       "    </tr>\n",
       "    <tr>\n",
       "      <th>mean</th>\n",
       "      <td>28505.666163</td>\n",
       "      <td>5.063479</td>\n",
       "      <td>3.622866e+04</td>\n",
       "      <td>38.856990</td>\n",
       "      <td>-97.198601</td>\n",
       "      <td>2.980355</td>\n",
       "    </tr>\n",
       "    <tr>\n",
       "      <th>std</th>\n",
       "      <td>15871.856580</td>\n",
       "      <td>1.502450</td>\n",
       "      <td>5.005903e+04</td>\n",
       "      <td>6.478758</td>\n",
       "      <td>19.068297</td>\n",
       "      <td>1.029390</td>\n",
       "    </tr>\n",
       "    <tr>\n",
       "      <th>min</th>\n",
       "      <td>103.000000</td>\n",
       "      <td>3.000000</td>\n",
       "      <td>0.000000e+00</td>\n",
       "      <td>8.872342</td>\n",
       "      <td>-159.713745</td>\n",
       "      <td>0.000000</td>\n",
       "    </tr>\n",
       "    <tr>\n",
       "      <th>25%</th>\n",
       "      <td>17995.000000</td>\n",
       "      <td>4.000000</td>\n",
       "      <td>1.586600e+04</td>\n",
       "      <td>34.245549</td>\n",
       "      <td>-116.742300</td>\n",
       "      <td>2.000000</td>\n",
       "    </tr>\n",
       "    <tr>\n",
       "      <th>50%</th>\n",
       "      <td>26990.000000</td>\n",
       "      <td>4.000000</td>\n",
       "      <td>2.919250e+04</td>\n",
       "      <td>39.337094</td>\n",
       "      <td>-91.755323</td>\n",
       "      <td>3.000000</td>\n",
       "    </tr>\n",
       "    <tr>\n",
       "      <th>75%</th>\n",
       "      <td>35995.000000</td>\n",
       "      <td>6.000000</td>\n",
       "      <td>4.652075e+04</td>\n",
       "      <td>42.885063</td>\n",
       "      <td>-82.321830</td>\n",
       "      <td>4.000000</td>\n",
       "    </tr>\n",
       "    <tr>\n",
       "      <th>max</th>\n",
       "      <td>339998.000000</td>\n",
       "      <td>12.000000</td>\n",
       "      <td>6.000000e+06</td>\n",
       "      <td>64.993698</td>\n",
       "      <td>-67.840490</td>\n",
       "      <td>4.000000</td>\n",
       "    </tr>\n",
       "  </tbody>\n",
       "</table>\n",
       "</div>"
      ],
      "text/plain": [
       "               price     cylinders      odometer           lat          long  \\\n",
       "count   81444.000000  81444.000000  8.144400e+04  80867.000000  80867.000000   \n",
       "mean    28505.666163      5.063479  3.622866e+04     38.856990    -97.198601   \n",
       "std     15871.856580      1.502450  5.005903e+04      6.478758     19.068297   \n",
       "min       103.000000      3.000000  0.000000e+00      8.872342   -159.713745   \n",
       "25%     17995.000000      4.000000  1.586600e+04     34.245549   -116.742300   \n",
       "50%     26990.000000      4.000000  2.919250e+04     39.337094    -91.755323   \n",
       "75%     35995.000000      6.000000  4.652075e+04     42.885063    -82.321830   \n",
       "max    339998.000000     12.000000  6.000000e+06     64.993698    -67.840490   \n",
       "\n",
       "                age  \n",
       "count  81444.000000  \n",
       "mean       2.980355  \n",
       "std        1.029390  \n",
       "min        0.000000  \n",
       "25%        2.000000  \n",
       "50%        3.000000  \n",
       "75%        4.000000  \n",
       "max        4.000000  "
      ]
     },
     "execution_count": 13,
     "metadata": {},
     "output_type": "execute_result"
    }
   ],
   "source": [
    "cars.describe()"
   ]
  },
  {
   "cell_type": "code",
   "execution_count": 14,
   "metadata": {},
   "outputs": [
    {
     "data": {
      "text/plain": [
       "(81444, 19)"
      ]
     },
     "execution_count": 14,
     "metadata": {},
     "output_type": "execute_result"
    }
   ],
   "source": [
    "cars.shape"
   ]
  },
  {
   "cell_type": "code",
   "execution_count": 15,
   "metadata": {},
   "outputs": [
    {
     "data": {
      "text/html": [
       "<div>\n",
       "<style scoped>\n",
       "    .dataframe tbody tr th:only-of-type {\n",
       "        vertical-align: middle;\n",
       "    }\n",
       "\n",
       "    .dataframe tbody tr th {\n",
       "        vertical-align: top;\n",
       "    }\n",
       "\n",
       "    .dataframe thead th {\n",
       "        text-align: right;\n",
       "    }\n",
       "</style>\n",
       "<table border=\"1\" class=\"dataframe\">\n",
       "  <thead>\n",
       "    <tr style=\"text-align: right;\">\n",
       "      <th></th>\n",
       "      <th>Columns</th>\n",
       "      <th>Percent Nulls</th>\n",
       "    </tr>\n",
       "  </thead>\n",
       "  <tbody>\n",
       "    <tr>\n",
       "      <th>0</th>\n",
       "      <td>region</td>\n",
       "      <td>0.000000</td>\n",
       "    </tr>\n",
       "    <tr>\n",
       "      <th>1</th>\n",
       "      <td>price</td>\n",
       "      <td>0.000000</td>\n",
       "    </tr>\n",
       "    <tr>\n",
       "      <th>2</th>\n",
       "      <td>manufacturer</td>\n",
       "      <td>1.117332</td>\n",
       "    </tr>\n",
       "    <tr>\n",
       "      <th>3</th>\n",
       "      <td>model</td>\n",
       "      <td>0.142429</td>\n",
       "    </tr>\n",
       "    <tr>\n",
       "      <th>4</th>\n",
       "      <td>condition</td>\n",
       "      <td>46.911989</td>\n",
       "    </tr>\n",
       "    <tr>\n",
       "      <th>5</th>\n",
       "      <td>cylinders</td>\n",
       "      <td>0.000000</td>\n",
       "    </tr>\n",
       "    <tr>\n",
       "      <th>6</th>\n",
       "      <td>fuel</td>\n",
       "      <td>0.877904</td>\n",
       "    </tr>\n",
       "    <tr>\n",
       "      <th>7</th>\n",
       "      <td>odometer</td>\n",
       "      <td>0.000000</td>\n",
       "    </tr>\n",
       "    <tr>\n",
       "      <th>8</th>\n",
       "      <td>transmission</td>\n",
       "      <td>0.595501</td>\n",
       "    </tr>\n",
       "    <tr>\n",
       "      <th>9</th>\n",
       "      <td>VIN</td>\n",
       "      <td>16.002407</td>\n",
       "    </tr>\n",
       "    <tr>\n",
       "      <th>10</th>\n",
       "      <td>drive</td>\n",
       "      <td>23.633417</td>\n",
       "    </tr>\n",
       "    <tr>\n",
       "      <th>11</th>\n",
       "      <td>type</td>\n",
       "      <td>14.260105</td>\n",
       "    </tr>\n",
       "    <tr>\n",
       "      <th>12</th>\n",
       "      <td>paint_color</td>\n",
       "      <td>26.305191</td>\n",
       "    </tr>\n",
       "    <tr>\n",
       "      <th>13</th>\n",
       "      <td>description</td>\n",
       "      <td>0.002456</td>\n",
       "    </tr>\n",
       "    <tr>\n",
       "      <th>14</th>\n",
       "      <td>state</td>\n",
       "      <td>0.000000</td>\n",
       "    </tr>\n",
       "    <tr>\n",
       "      <th>15</th>\n",
       "      <td>lat</td>\n",
       "      <td>0.708462</td>\n",
       "    </tr>\n",
       "    <tr>\n",
       "      <th>16</th>\n",
       "      <td>long</td>\n",
       "      <td>0.708462</td>\n",
       "    </tr>\n",
       "    <tr>\n",
       "      <th>17</th>\n",
       "      <td>posting_date</td>\n",
       "      <td>0.000000</td>\n",
       "    </tr>\n",
       "    <tr>\n",
       "      <th>18</th>\n",
       "      <td>age</td>\n",
       "      <td>0.000000</td>\n",
       "    </tr>\n",
       "  </tbody>\n",
       "</table>\n",
       "</div>"
      ],
      "text/plain": [
       "         Columns  Percent Nulls\n",
       "0         region       0.000000\n",
       "1          price       0.000000\n",
       "2   manufacturer       1.117332\n",
       "3          model       0.142429\n",
       "4      condition      46.911989\n",
       "5      cylinders       0.000000\n",
       "6           fuel       0.877904\n",
       "7       odometer       0.000000\n",
       "8   transmission       0.595501\n",
       "9            VIN      16.002407\n",
       "10         drive      23.633417\n",
       "11          type      14.260105\n",
       "12   paint_color      26.305191\n",
       "13   description       0.002456\n",
       "14         state       0.000000\n",
       "15           lat       0.708462\n",
       "16          long       0.708462\n",
       "17  posting_date       0.000000\n",
       "18           age       0.000000"
      ]
     },
     "execution_count": 15,
     "metadata": {},
     "output_type": "execute_result"
    }
   ],
   "source": [
    "# Percent of nulls in the data\n",
    "pd.DataFrame({'Columns':cars.columns,'Percent Nulls':(cars.isnull().sum()/len(cars) * 100).values})"
   ]
  },
  {
   "cell_type": "markdown",
   "metadata": {},
   "source": [
    "# Splitting the data into categorical and numerical"
   ]
  },
  {
   "cell_type": "markdown",
   "metadata": {},
   "source": [
    "### splitting dependent and independent features"
   ]
  },
  {
   "cell_type": "code",
   "execution_count": 39,
   "metadata": {},
   "outputs": [],
   "source": [
    "y=cars[['price']]\n",
    "X=cars.drop(columns=['price'])"
   ]
  },
  {
   "cell_type": "markdown",
   "metadata": {},
   "source": [
    "### Splitting the X,y into train and test"
   ]
  },
  {
   "cell_type": "code",
   "execution_count": 41,
   "metadata": {},
   "outputs": [],
   "source": [
    "from sklearn.model_selection import train_test_split\n",
    "X_train,X_test,y_train,y_test = train_test_split(X,y,test_size=0.2,random_state=8)"
   ]
  },
  {
   "cell_type": "code",
   "execution_count": 18,
   "metadata": {},
   "outputs": [],
   "source": [
    "# split train set into num and cat (fit_transform())\n",
    "X_train_int = X_train.select_dtypes(include=np.number)\n",
    "X_train_str = X_train.select_dtypes(exclude=np.number)\n",
    "\n",
    "####################################################\n",
    "\n",
    "#split test set into num and cat (transform())\n",
    "X_test_int=X_test.select_dtypes(include=np.number)\n",
    "X_test_str=X_test.select_dtypes(exclude=np.number)"
   ]
  },
  {
   "cell_type": "code",
   "execution_count": 42,
   "metadata": {},
   "outputs": [],
   "source": [
    "# Imputing nulls in Numerical columns by Iterative Imputer\n",
    "from sklearn.experimental import enable_iterative_imputer #(for importing iterative imputer)\n",
    "\n",
    "from sklearn.tree import DecisionTreeRegressor\n",
    "from sklearn.linear_model import LinearRegression"
   ]
  },
  {
   "cell_type": "code",
   "execution_count": 44,
   "metadata": {},
   "outputs": [],
   "source": [
    "# Iterative Imputer for numerical column\n",
    "# (to remove null values using the linear regression)\n",
    "\n",
    "\n",
    "from sklearn.impute import IterativeImputer\n",
    "\n",
    "ii = IterativeImputer(estimator=LinearRegression(),random_state=8)\n",
    "\n",
    "# fit_transform()\n",
    "iter_X_train = pd.DataFrame(ii.fit_transform(X_train_int),columns=X_train_int.columns)\n",
    "\n",
    "# transform()\n",
    "iter_X_test = pd.DataFrame(ii.transform(X_test_int),columns=X_test_int.columns)"
   ]
  },
  {
   "cell_type": "code",
   "execution_count": 45,
   "metadata": {},
   "outputs": [
    {
     "data": {
      "text/plain": [
       "cylinders    0\n",
       "odometer     0\n",
       "lat          0\n",
       "long         0\n",
       "age          0\n",
       "dtype: int64"
      ]
     },
     "execution_count": 45,
     "metadata": {},
     "output_type": "execute_result"
    }
   ],
   "source": [
    "# sanity check \n",
    "iter_X_train.isnull().sum()"
   ]
  },
  {
   "cell_type": "code",
   "execution_count": 46,
   "metadata": {},
   "outputs": [
    {
     "data": {
      "text/plain": [
       "cylinders    0\n",
       "odometer     0\n",
       "lat          0\n",
       "long         0\n",
       "age          0\n",
       "dtype: int64"
      ]
     },
     "execution_count": 46,
     "metadata": {},
     "output_type": "execute_result"
    }
   ],
   "source": [
    "# sanity check \n",
    "iter_X_test.isnull().sum()"
   ]
  },
  {
   "cell_type": "code",
   "execution_count": 47,
   "metadata": {},
   "outputs": [],
   "source": [
    "# Imputing the null values in Categorical train data\n",
    "\n",
    "misscol_X_train_str=list(np.where(X_train_str.isnull().sum())[0])\n",
    "for i in misscol_X_train_str:\n",
    "    X_train_str.iloc[:,i]=X_train_str.iloc[:,i].fillna(X_train_str.iloc[:,i].mode()[0])"
   ]
  },
  {
   "cell_type": "code",
   "execution_count": 48,
   "metadata": {},
   "outputs": [
    {
     "data": {
      "text/plain": [
       "region          0\n",
       "manufacturer    0\n",
       "model           0\n",
       "condition       0\n",
       "fuel            0\n",
       "transmission    0\n",
       "VIN             0\n",
       "drive           0\n",
       "type            0\n",
       "paint_color     0\n",
       "description     0\n",
       "state           0\n",
       "posting_date    0\n",
       "dtype: int64"
      ]
     },
     "execution_count": 48,
     "metadata": {},
     "output_type": "execute_result"
    }
   ],
   "source": [
    "# sanity check\n",
    "X_train_str.isnull().sum()"
   ]
  },
  {
   "cell_type": "code",
   "execution_count": 49,
   "metadata": {},
   "outputs": [],
   "source": [
    "# Imputing nulls in categorical test columns \n",
    "misscol_X_test_str=list(np.where(X_test_str.isnull().sum())[0])\n",
    "for i in misscol_X_test_str:\n",
    "    X_test_str.iloc[:,i]=X_test_str.iloc[:,i].fillna(X_test_str.iloc[:,i].mode()[0])"
   ]
  },
  {
   "cell_type": "code",
   "execution_count": 50,
   "metadata": {},
   "outputs": [
    {
     "data": {
      "text/plain": [
       "region          0\n",
       "manufacturer    0\n",
       "model           0\n",
       "condition       0\n",
       "fuel            0\n",
       "transmission    0\n",
       "VIN             0\n",
       "drive           0\n",
       "type            0\n",
       "paint_color     0\n",
       "description     0\n",
       "state           0\n",
       "posting_date    0\n",
       "dtype: int64"
      ]
     },
     "execution_count": 50,
     "metadata": {},
     "output_type": "execute_result"
    }
   ],
   "source": [
    "# sanity check\n",
    "X_test_str.isnull().sum()"
   ]
  },
  {
   "cell_type": "code",
   "execution_count": 51,
   "metadata": {},
   "outputs": [
    {
     "data": {
      "text/html": [
       "<div>\n",
       "<style scoped>\n",
       "    .dataframe tbody tr th:only-of-type {\n",
       "        vertical-align: middle;\n",
       "    }\n",
       "\n",
       "    .dataframe tbody tr th {\n",
       "        vertical-align: top;\n",
       "    }\n",
       "\n",
       "    .dataframe thead th {\n",
       "        text-align: right;\n",
       "    }\n",
       "</style>\n",
       "<table border=\"1\" class=\"dataframe\">\n",
       "  <thead>\n",
       "    <tr style=\"text-align: right;\">\n",
       "      <th></th>\n",
       "      <th>cylinders</th>\n",
       "      <th>odometer</th>\n",
       "      <th>lat</th>\n",
       "      <th>long</th>\n",
       "      <th>age</th>\n",
       "    </tr>\n",
       "  </thead>\n",
       "  <tbody>\n",
       "    <tr>\n",
       "      <th>56694</th>\n",
       "      <td>6.0</td>\n",
       "      <td>58402.0</td>\n",
       "      <td>38.549500</td>\n",
       "      <td>-90.381100</td>\n",
       "      <td>4.0</td>\n",
       "    </tr>\n",
       "    <tr>\n",
       "      <th>74859</th>\n",
       "      <td>4.0</td>\n",
       "      <td>73920.0</td>\n",
       "      <td>46.574457</td>\n",
       "      <td>-120.490540</td>\n",
       "      <td>3.0</td>\n",
       "    </tr>\n",
       "    <tr>\n",
       "      <th>25063</th>\n",
       "      <td>8.0</td>\n",
       "      <td>1506.0</td>\n",
       "      <td>34.000000</td>\n",
       "      <td>-81.030000</td>\n",
       "      <td>3.0</td>\n",
       "    </tr>\n",
       "    <tr>\n",
       "      <th>49911</th>\n",
       "      <td>6.0</td>\n",
       "      <td>34684.0</td>\n",
       "      <td>38.821080</td>\n",
       "      <td>-104.823110</td>\n",
       "      <td>2.0</td>\n",
       "    </tr>\n",
       "    <tr>\n",
       "      <th>44418</th>\n",
       "      <td>6.0</td>\n",
       "      <td>56902.0</td>\n",
       "      <td>28.792413</td>\n",
       "      <td>-81.231302</td>\n",
       "      <td>4.0</td>\n",
       "    </tr>\n",
       "  </tbody>\n",
       "</table>\n",
       "</div>"
      ],
      "text/plain": [
       "       cylinders  odometer        lat        long  age\n",
       "56694        6.0   58402.0  38.549500  -90.381100  4.0\n",
       "74859        4.0   73920.0  46.574457 -120.490540  3.0\n",
       "25063        8.0    1506.0  34.000000  -81.030000  3.0\n",
       "49911        6.0   34684.0  38.821080 -104.823110  2.0\n",
       "44418        6.0   56902.0  28.792413  -81.231302  4.0"
      ]
     },
     "execution_count": 51,
     "metadata": {},
     "output_type": "execute_result"
    }
   ],
   "source": [
    "#########################################\n",
    "X_train_int.head()"
   ]
  },
  {
   "cell_type": "code",
   "execution_count": 52,
   "metadata": {},
   "outputs": [
    {
     "data": {
      "text/html": [
       "<div>\n",
       "<style scoped>\n",
       "    .dataframe tbody tr th:only-of-type {\n",
       "        vertical-align: middle;\n",
       "    }\n",
       "\n",
       "    .dataframe tbody tr th {\n",
       "        vertical-align: top;\n",
       "    }\n",
       "\n",
       "    .dataframe thead th {\n",
       "        text-align: right;\n",
       "    }\n",
       "</style>\n",
       "<table border=\"1\" class=\"dataframe\">\n",
       "  <thead>\n",
       "    <tr style=\"text-align: right;\">\n",
       "      <th></th>\n",
       "      <th>cylinders</th>\n",
       "      <th>odometer</th>\n",
       "      <th>lat</th>\n",
       "      <th>long</th>\n",
       "      <th>age</th>\n",
       "    </tr>\n",
       "  </thead>\n",
       "  <tbody>\n",
       "    <tr>\n",
       "      <th>38259</th>\n",
       "      <td>4.0</td>\n",
       "      <td>11593.0</td>\n",
       "      <td>29.760000</td>\n",
       "      <td>-95.380000</td>\n",
       "      <td>3.0</td>\n",
       "    </tr>\n",
       "    <tr>\n",
       "      <th>15190</th>\n",
       "      <td>4.0</td>\n",
       "      <td>77561.0</td>\n",
       "      <td>28.015670</td>\n",
       "      <td>-82.459780</td>\n",
       "      <td>3.0</td>\n",
       "    </tr>\n",
       "    <tr>\n",
       "      <th>68103</th>\n",
       "      <td>4.0</td>\n",
       "      <td>12987.0</td>\n",
       "      <td>40.544000</td>\n",
       "      <td>-84.394400</td>\n",
       "      <td>4.0</td>\n",
       "    </tr>\n",
       "    <tr>\n",
       "      <th>12782</th>\n",
       "      <td>6.0</td>\n",
       "      <td>70935.0</td>\n",
       "      <td>47.812470</td>\n",
       "      <td>-122.321640</td>\n",
       "      <td>4.0</td>\n",
       "    </tr>\n",
       "    <tr>\n",
       "      <th>39188</th>\n",
       "      <td>4.0</td>\n",
       "      <td>90215.0</td>\n",
       "      <td>43.495074</td>\n",
       "      <td>-111.983471</td>\n",
       "      <td>4.0</td>\n",
       "    </tr>\n",
       "  </tbody>\n",
       "</table>\n",
       "</div>"
      ],
      "text/plain": [
       "       cylinders  odometer        lat        long  age\n",
       "38259        4.0   11593.0  29.760000  -95.380000  3.0\n",
       "15190        4.0   77561.0  28.015670  -82.459780  3.0\n",
       "68103        4.0   12987.0  40.544000  -84.394400  4.0\n",
       "12782        6.0   70935.0  47.812470 -122.321640  4.0\n",
       "39188        4.0   90215.0  43.495074 -111.983471  4.0"
      ]
     },
     "execution_count": 52,
     "metadata": {},
     "output_type": "execute_result"
    }
   ],
   "source": [
    "X_test_int.head()"
   ]
  },
  {
   "cell_type": "code",
   "execution_count": 53,
   "metadata": {},
   "outputs": [
    {
     "data": {
      "text/html": [
       "<div>\n",
       "<style scoped>\n",
       "    .dataframe tbody tr th:only-of-type {\n",
       "        vertical-align: middle;\n",
       "    }\n",
       "\n",
       "    .dataframe tbody tr th {\n",
       "        vertical-align: top;\n",
       "    }\n",
       "\n",
       "    .dataframe thead th {\n",
       "        text-align: right;\n",
       "    }\n",
       "</style>\n",
       "<table border=\"1\" class=\"dataframe\">\n",
       "  <thead>\n",
       "    <tr style=\"text-align: right;\">\n",
       "      <th></th>\n",
       "      <th>region</th>\n",
       "      <th>manufacturer</th>\n",
       "      <th>model</th>\n",
       "      <th>condition</th>\n",
       "      <th>fuel</th>\n",
       "      <th>transmission</th>\n",
       "      <th>VIN</th>\n",
       "      <th>drive</th>\n",
       "      <th>type</th>\n",
       "      <th>paint_color</th>\n",
       "      <th>description</th>\n",
       "      <th>state</th>\n",
       "      <th>posting_date</th>\n",
       "    </tr>\n",
       "  </thead>\n",
       "  <tbody>\n",
       "    <tr>\n",
       "      <th>56694</th>\n",
       "      <td>st louis, MO</td>\n",
       "      <td>chrysler</td>\n",
       "      <td>300 s</td>\n",
       "      <td>excellent</td>\n",
       "      <td>gas</td>\n",
       "      <td>automatic</td>\n",
       "      <td>2C3CCABG6HH553736</td>\n",
       "      <td>rwd</td>\n",
       "      <td>sedan</td>\n",
       "      <td>black</td>\n",
       "      <td>2017 CHRYSLER 300 S You will not find a cleane...</td>\n",
       "      <td>il</td>\n",
       "      <td>2020-12-02T15:00:00-0600</td>\n",
       "    </tr>\n",
       "    <tr>\n",
       "      <th>74859</th>\n",
       "      <td>yakima</td>\n",
       "      <td>chevrolet</td>\n",
       "      <td>malibu</td>\n",
       "      <td>good</td>\n",
       "      <td>gas</td>\n",
       "      <td>automatic</td>\n",
       "      <td>1G1ZD5ST9JF198066</td>\n",
       "      <td>fwd</td>\n",
       "      <td>sedan</td>\n",
       "      <td>white</td>\n",
       "      <td>2018 Chevrolet Chevy Malibu LT Sedan 4D     Of...</td>\n",
       "      <td>wa</td>\n",
       "      <td>2020-11-20T10:38:55-0800</td>\n",
       "    </tr>\n",
       "    <tr>\n",
       "      <th>25063</th>\n",
       "      <td>columbia</td>\n",
       "      <td>chevrolet</td>\n",
       "      <td>silverado 1500 crew</td>\n",
       "      <td>good</td>\n",
       "      <td>gas</td>\n",
       "      <td>automatic</td>\n",
       "      <td>3GCPCREC6JG623276</td>\n",
       "      <td>4wd</td>\n",
       "      <td>pickup</td>\n",
       "      <td>black</td>\n",
       "      <td>Carvana is the safer way to buy a car During t...</td>\n",
       "      <td>sc</td>\n",
       "      <td>2020-11-07T13:24:05-0500</td>\n",
       "    </tr>\n",
       "    <tr>\n",
       "      <th>49911</th>\n",
       "      <td>colorado springs</td>\n",
       "      <td>nissan</td>\n",
       "      <td>frontier crew cab sv</td>\n",
       "      <td>good</td>\n",
       "      <td>gas</td>\n",
       "      <td>other</td>\n",
       "      <td>1N6AD0ER5KN722485</td>\n",
       "      <td>fwd</td>\n",
       "      <td>pickup</td>\n",
       "      <td>blue</td>\n",
       "      <td>Carvana is the safer way to buy a car During t...</td>\n",
       "      <td>co</td>\n",
       "      <td>2020-11-29T07:47:45-0700</td>\n",
       "    </tr>\n",
       "    <tr>\n",
       "      <th>44418</th>\n",
       "      <td>orlando</td>\n",
       "      <td>ford</td>\n",
       "      <td>explorer</td>\n",
       "      <td>good</td>\n",
       "      <td>gas</td>\n",
       "      <td>automatic</td>\n",
       "      <td>1C4HJWDG6HL702229</td>\n",
       "      <td>fwd</td>\n",
       "      <td>SUV</td>\n",
       "      <td>white</td>\n",
       "      <td>➥  You can immediately confirm availability of...</td>\n",
       "      <td>fl</td>\n",
       "      <td>2020-11-27T11:41:33-0500</td>\n",
       "    </tr>\n",
       "  </tbody>\n",
       "</table>\n",
       "</div>"
      ],
      "text/plain": [
       "                 region manufacturer                 model  condition fuel  \\\n",
       "56694      st louis, MO     chrysler                 300 s  excellent  gas   \n",
       "74859            yakima    chevrolet                malibu       good  gas   \n",
       "25063          columbia    chevrolet   silverado 1500 crew       good  gas   \n",
       "49911  colorado springs       nissan  frontier crew cab sv       good  gas   \n",
       "44418           orlando         ford              explorer       good  gas   \n",
       "\n",
       "      transmission                VIN drive    type paint_color  \\\n",
       "56694    automatic  2C3CCABG6HH553736   rwd   sedan       black   \n",
       "74859    automatic  1G1ZD5ST9JF198066   fwd   sedan       white   \n",
       "25063    automatic  3GCPCREC6JG623276   4wd  pickup       black   \n",
       "49911        other  1N6AD0ER5KN722485   fwd  pickup        blue   \n",
       "44418    automatic  1C4HJWDG6HL702229   fwd     SUV       white   \n",
       "\n",
       "                                             description state  \\\n",
       "56694  2017 CHRYSLER 300 S You will not find a cleane...    il   \n",
       "74859  2018 Chevrolet Chevy Malibu LT Sedan 4D     Of...    wa   \n",
       "25063  Carvana is the safer way to buy a car During t...    sc   \n",
       "49911  Carvana is the safer way to buy a car During t...    co   \n",
       "44418  ➥  You can immediately confirm availability of...    fl   \n",
       "\n",
       "                   posting_date  \n",
       "56694  2020-12-02T15:00:00-0600  \n",
       "74859  2020-11-20T10:38:55-0800  \n",
       "25063  2020-11-07T13:24:05-0500  \n",
       "49911  2020-11-29T07:47:45-0700  \n",
       "44418  2020-11-27T11:41:33-0500  "
      ]
     },
     "execution_count": 53,
     "metadata": {},
     "output_type": "execute_result"
    }
   ],
   "source": [
    "X_train_str.head()"
   ]
  },
  {
   "cell_type": "code",
   "execution_count": 54,
   "metadata": {},
   "outputs": [
    {
     "data": {
      "text/html": [
       "<div>\n",
       "<style scoped>\n",
       "    .dataframe tbody tr th:only-of-type {\n",
       "        vertical-align: middle;\n",
       "    }\n",
       "\n",
       "    .dataframe tbody tr th {\n",
       "        vertical-align: top;\n",
       "    }\n",
       "\n",
       "    .dataframe thead th {\n",
       "        text-align: right;\n",
       "    }\n",
       "</style>\n",
       "<table border=\"1\" class=\"dataframe\">\n",
       "  <thead>\n",
       "    <tr style=\"text-align: right;\">\n",
       "      <th></th>\n",
       "      <th>region</th>\n",
       "      <th>manufacturer</th>\n",
       "      <th>model</th>\n",
       "      <th>condition</th>\n",
       "      <th>fuel</th>\n",
       "      <th>transmission</th>\n",
       "      <th>VIN</th>\n",
       "      <th>drive</th>\n",
       "      <th>type</th>\n",
       "      <th>paint_color</th>\n",
       "      <th>description</th>\n",
       "      <th>state</th>\n",
       "      <th>posting_date</th>\n",
       "    </tr>\n",
       "  </thead>\n",
       "  <tbody>\n",
       "    <tr>\n",
       "      <th>38259</th>\n",
       "      <td>houston</td>\n",
       "      <td>buick</td>\n",
       "      <td>regal tourx essence wagon</td>\n",
       "      <td>good</td>\n",
       "      <td>gas</td>\n",
       "      <td>other</td>\n",
       "      <td>W04GV8SX1J1134367</td>\n",
       "      <td>4wd</td>\n",
       "      <td>wagon</td>\n",
       "      <td>white</td>\n",
       "      <td>Carvana is the safer way to buy a car During t...</td>\n",
       "      <td>tx</td>\n",
       "      <td>2020-12-01T11:40:10-0600</td>\n",
       "    </tr>\n",
       "    <tr>\n",
       "      <th>15190</th>\n",
       "      <td>orlando</td>\n",
       "      <td>chevrolet</td>\n",
       "      <td>suburban</td>\n",
       "      <td>good</td>\n",
       "      <td>gas</td>\n",
       "      <td>automatic</td>\n",
       "      <td>1GNSCHKC6JR162791</td>\n",
       "      <td>fwd</td>\n",
       "      <td>SUV</td>\n",
       "      <td>white</td>\n",
       "      <td>2018 Chevrolet Chevy Suburban LT 1500 4x2 4dr ...</td>\n",
       "      <td>fl</td>\n",
       "      <td>2020-12-02T10:07:47-0500</td>\n",
       "    </tr>\n",
       "    <tr>\n",
       "      <th>68103</th>\n",
       "      <td>dayton / springfield</td>\n",
       "      <td>ford</td>\n",
       "      <td>fusion se</td>\n",
       "      <td>good</td>\n",
       "      <td>gas</td>\n",
       "      <td>automatic</td>\n",
       "      <td>1C4HJWDG6HL702229</td>\n",
       "      <td>4wd</td>\n",
       "      <td>sedan</td>\n",
       "      <td>white</td>\n",
       "      <td>Call 888-367-3856 Be sure to ask for Maxwell G...</td>\n",
       "      <td>oh</td>\n",
       "      <td>2020-11-05T12:01:10-0500</td>\n",
       "    </tr>\n",
       "    <tr>\n",
       "      <th>12782</th>\n",
       "      <td>eugene</td>\n",
       "      <td>ford</td>\n",
       "      <td>f-150 lariat</td>\n",
       "      <td>good</td>\n",
       "      <td>gas</td>\n",
       "      <td>automatic</td>\n",
       "      <td>1FTFW1EGXHFA49039</td>\n",
       "      <td>4wd</td>\n",
       "      <td>truck</td>\n",
       "      <td>white</td>\n",
       "      <td>our number one priority is the health and safe...</td>\n",
       "      <td>or</td>\n",
       "      <td>2020-12-02T20:00:02-0800</td>\n",
       "    </tr>\n",
       "    <tr>\n",
       "      <th>39188</th>\n",
       "      <td>east idaho</td>\n",
       "      <td>ford</td>\n",
       "      <td>f150 xlt</td>\n",
       "      <td>excellent</td>\n",
       "      <td>gas</td>\n",
       "      <td>automatic</td>\n",
       "      <td>1FTEW1EG4HKD64101</td>\n",
       "      <td>4wd</td>\n",
       "      <td>truck</td>\n",
       "      <td>white</td>\n",
       "      <td>**Back Up Camera/Remote Start/Great Deal**2017...</td>\n",
       "      <td>id</td>\n",
       "      <td>2020-11-11T10:53:53-0700</td>\n",
       "    </tr>\n",
       "  </tbody>\n",
       "</table>\n",
       "</div>"
      ],
      "text/plain": [
       "                     region manufacturer                      model  \\\n",
       "38259               houston        buick  regal tourx essence wagon   \n",
       "15190               orlando    chevrolet                   suburban   \n",
       "68103  dayton / springfield         ford                  fusion se   \n",
       "12782                eugene         ford               f-150 lariat   \n",
       "39188            east idaho         ford                   f150 xlt   \n",
       "\n",
       "       condition fuel transmission                VIN drive   type  \\\n",
       "38259       good  gas        other  W04GV8SX1J1134367   4wd  wagon   \n",
       "15190       good  gas    automatic  1GNSCHKC6JR162791   fwd    SUV   \n",
       "68103       good  gas    automatic  1C4HJWDG6HL702229   4wd  sedan   \n",
       "12782       good  gas    automatic  1FTFW1EGXHFA49039   4wd  truck   \n",
       "39188  excellent  gas    automatic  1FTEW1EG4HKD64101   4wd  truck   \n",
       "\n",
       "      paint_color                                        description state  \\\n",
       "38259       white  Carvana is the safer way to buy a car During t...    tx   \n",
       "15190       white  2018 Chevrolet Chevy Suburban LT 1500 4x2 4dr ...    fl   \n",
       "68103       white  Call 888-367-3856 Be sure to ask for Maxwell G...    oh   \n",
       "12782       white  our number one priority is the health and safe...    or   \n",
       "39188       white  **Back Up Camera/Remote Start/Great Deal**2017...    id   \n",
       "\n",
       "                   posting_date  \n",
       "38259  2020-12-01T11:40:10-0600  \n",
       "15190  2020-12-02T10:07:47-0500  \n",
       "68103  2020-11-05T12:01:10-0500  \n",
       "12782  2020-12-02T20:00:02-0800  \n",
       "39188  2020-11-11T10:53:53-0700  "
      ]
     },
     "execution_count": 54,
     "metadata": {},
     "output_type": "execute_result"
    }
   ],
   "source": [
    "X_test_str.head()"
   ]
  },
  {
   "cell_type": "code",
   "execution_count": 55,
   "metadata": {},
   "outputs": [],
   "source": [
    "#concating the X_train (int+str)\n",
    "X_train_joined=pd.concat([X_train_int,X_train_str],axis=1)\n",
    "\n",
    "#concating the X_test (int+str)\n",
    "X_test_joined=pd.concat([X_test_int,X_test_str],axis=1)\n"
   ]
  },
  {
   "cell_type": "markdown",
   "metadata": {},
   "source": [
    "X_train_joined,y_train\n",
    "\n",
    "X_test_joined,y_test\n"
   ]
  },
  {
   "cell_type": "code",
   "execution_count": null,
   "metadata": {},
   "outputs": [],
   "source": []
  },
  {
   "cell_type": "code",
   "execution_count": null,
   "metadata": {},
   "outputs": [],
   "source": []
  },
  {
   "cell_type": "markdown",
   "metadata": {},
   "source": [
    "# EDA"
   ]
  },
  {
   "cell_type": "markdown",
   "metadata": {},
   "source": [
    "## Getting the idea of the distribution of the data of the Numerical Feature"
   ]
  },
  {
   "cell_type": "markdown",
   "metadata": {},
   "source": [
    "### Trim Mean"
   ]
  },
  {
   "cell_type": "code",
   "execution_count": 56,
   "metadata": {},
   "outputs": [
    {
     "name": "stdout",
     "output_type": "stream",
     "text": [
      "cylinders\n",
      "Mean 5.061069756733942 \n",
      " Trim_Mean 5.043083332028252\n",
      "odometer\n",
      "Mean 36307.08518149029 \n",
      " Trim_Mean 34818.08840618295\n",
      "lat\n",
      "Mean 38.85319246789506 \n",
      " Trim_Mean 38.956336314707215\n",
      "long\n",
      "Mean -97.20127156774392 \n",
      " Trim_Mean -96.66727459735642\n",
      "age\n",
      "Mean 2.981444248330903 \n",
      " Trim_Mean 2.997290651966235\n"
     ]
    }
   ],
   "source": [
    "from scipy.stats import trim_mean\n",
    "for i in X_train_joined.select_dtypes(include=np.number).columns:\n",
    "    print(i)\n",
    "    print('Mean',np.mean(X_train_joined[i]),'\\n Trim_Mean',trim_mean(X_train_joined[i],0.01))"
   ]
  },
  {
   "cell_type": "markdown",
   "metadata": {},
   "source": [
    "### From the above step we got the idea that there are outliers present in the price and odometer columns..we will confirm this by making significant graphs"
   ]
  },
  {
   "cell_type": "code",
   "execution_count": 57,
   "metadata": {},
   "outputs": [
    {
     "data": {
      "image/png": "[encoded data removed]",
      "text/plain": [
       "<Figure size 432x288 with 1 Axes>"
      ]
     },
     "metadata": {
      "needs_background": "light"
     },
     "output_type": "display_data"
    }
   ],
   "source": [
    "X_train_joined.select_dtypes(include=np.number).boxplot()\n",
    "plt.show()"
   ]
  },
  {
   "cell_type": "code",
   "execution_count": 58,
   "metadata": {},
   "outputs": [],
   "source": [
    "# Odometer has some extreme outliers present"
   ]
  },
  {
   "cell_type": "markdown",
   "metadata": {},
   "source": [
    "## Price"
   ]
  },
  {
   "cell_type": "code",
   "execution_count": 59,
   "metadata": {},
   "outputs": [
    {
     "name": "stdout",
     "output_type": "stream",
     "text": [
      "Maximum Price: 339998\n",
      "Minimum Price: 103\n"
     ]
    }
   ],
   "source": [
    "print('Maximum Price:',y_train.price.max())\n",
    "print('Minimum Price:',y_train.price.min())"
   ]
  },
  {
   "cell_type": "code",
   "execution_count": 60,
   "metadata": {},
   "outputs": [
    {
     "data": {
      "text/plain": [
       "103       4\n",
       "116       1\n",
       "120       1\n",
       "122       1\n",
       "125       2\n",
       "         ..\n",
       "269888    1\n",
       "269999    1\n",
       "272500    1\n",
       "325000    1\n",
       "339998    1\n",
       "Name: price, Length: 8597, dtype: int64"
      ]
     },
     "execution_count": 60,
     "metadata": {},
     "output_type": "execute_result"
    }
   ],
   "source": [
    "y_train.price.value_counts().sort_index()"
   ]
  },
  {
   "cell_type": "code",
   "execution_count": 61,
   "metadata": {},
   "outputs": [
    {
     "data": {
      "image/png": "[encoded data removed]",
      "text/plain": [
       "<Figure size 432x288 with 1 Axes>"
      ]
     },
     "metadata": {
      "needs_background": "light"
     },
     "output_type": "display_data"
    }
   ],
   "source": [
    "sns.distplot(y_train.price.sort_values()) #Original\n",
    "plt.show()"
   ]
  },
  {
   "cell_type": "code",
   "execution_count": 62,
   "metadata": {},
   "outputs": [
    {
     "data": {
      "image/png": "[encoded data removed]",
      "text/plain": [
       "<Figure size 432x288 with 1 Axes>"
      ]
     },
     "metadata": {
      "needs_background": "light"
     },
     "output_type": "display_data"
    }
   ],
   "source": [
    "sns.boxplot(y_train.price.sort_values())\n",
    "plt.show()"
   ]
  },
  {
   "cell_type": "code",
   "execution_count": 63,
   "metadata": {},
   "outputs": [
    {
     "data": {
      "image/png": "[encoded data removed]",
      "text/plain": [
       "<Figure size 1080x576 with 1 Axes>"
      ]
     },
     "metadata": {
      "needs_background": "light"
     },
     "output_type": "display_data"
    }
   ],
   "source": [
    "plt.figure(figsize=(15,8))\n",
    "sns.kdeplot(y_train.price,cumulative=True)\n",
    "plt.axhline(.9,c='r')\n",
    "plt.axvline(45000,c='r')\n",
    "plt.show()"
   ]
  },
  {
   "cell_type": "markdown",
   "metadata": {},
   "source": [
    "### Here we get a idea that around 90% of the cars are cost less than 45000 $"
   ]
  },
  {
   "cell_type": "markdown",
   "metadata": {},
   "source": [
    "### Odometer"
   ]
  },
  {
   "cell_type": "code",
   "execution_count": 64,
   "metadata": {},
   "outputs": [
    {
     "name": "stdout",
     "output_type": "stream",
     "text": [
      "Maximum odo: 6000000.0\n",
      "Minimum odo: 0.0\n"
     ]
    }
   ],
   "source": [
    "print('Maximum odo:',X_train_joined.odometer.max())\n",
    "print('Minimum odo:',X_train_joined.odometer.min())"
   ]
  },
  {
   "cell_type": "code",
   "execution_count": 65,
   "metadata": {},
   "outputs": [
    {
     "data": {
      "text/plain": [
       "0.0          103\n",
       "1.0           92\n",
       "2.0           25\n",
       "3.0          124\n",
       "4.0           52\n",
       "            ... \n",
       "999000.0       1\n",
       "999999.0       2\n",
       "1111111.0      1\n",
       "4728224.0      4\n",
       "6000000.0      1\n",
       "Name: odometer, Length: 25261, dtype: int64"
      ]
     },
     "execution_count": 65,
     "metadata": {},
     "output_type": "execute_result"
    }
   ],
   "source": [
    "X_train_joined.odometer.value_counts().sort_index()"
   ]
  },
  {
   "cell_type": "code",
   "execution_count": null,
   "metadata": {},
   "outputs": [],
   "source": [
    "### Their are around 103 cars while are not even driven i.e their odometer reading is 0.0"
   ]
  },
  {
   "cell_type": "code",
   "execution_count": 66,
   "metadata": {},
   "outputs": [
    {
     "data": {
      "image/png": "[encoded data removed]",
      "text/plain": [
       "<Figure size 1080x576 with 1 Axes>"
      ]
     },
     "metadata": {
      "needs_background": "light"
     },
     "output_type": "display_data"
    }
   ],
   "source": [
    "plt.figure(figsize=(15,8))\n",
    "sns.distplot(X_train_joined.odometer)\n",
    "plt.show()"
   ]
  },
  {
   "cell_type": "code",
   "execution_count": 67,
   "metadata": {},
   "outputs": [
    {
     "data": {
      "image/png": "[encoded data removed]",
      "text/plain": [
       "<Figure size 1080x576 with 1 Axes>"
      ]
     },
     "metadata": {
      "needs_background": "light"
     },
     "output_type": "display_data"
    }
   ],
   "source": [
    "plt.figure(figsize=(15,8))\n",
    "sns.boxplot(X_train_joined.odometer)\n",
    "plt.show()"
   ]
  },
  {
   "cell_type": "code",
   "execution_count": 68,
   "metadata": {},
   "outputs": [
    {
     "data": {
      "image/png": "[encoded data removed]",
      "text/plain": [
       "<Figure size 1080x576 with 1 Axes>"
      ]
     },
     "metadata": {
      "needs_background": "light"
     },
     "output_type": "display_data"
    }
   ],
   "source": [
    "plt.figure(figsize=(15,8))\n",
    "sns.kdeplot(X_train_joined.odometer.sort_values(),cumulative=True)\n",
    "plt.axhline(.8,c='r')\n",
    "plt.axvline(50000,c='r')\n",
    "plt.show()"
   ]
  },
  {
   "cell_type": "markdown",
   "metadata": {},
   "source": [
    "### Here we got a idea that around 80% of the cars driven less than 50000 "
   ]
  },
  {
   "cell_type": "code",
   "execution_count": 69,
   "metadata": {},
   "outputs": [
    {
     "data": {
      "text/html": [
       "<div>\n",
       "<style scoped>\n",
       "    .dataframe tbody tr th:only-of-type {\n",
       "        vertical-align: middle;\n",
       "    }\n",
       "\n",
       "    .dataframe tbody tr th {\n",
       "        vertical-align: top;\n",
       "    }\n",
       "\n",
       "    .dataframe thead th {\n",
       "        text-align: right;\n",
       "    }\n",
       "</style>\n",
       "<table border=\"1\" class=\"dataframe\">\n",
       "  <thead>\n",
       "    <tr style=\"text-align: right;\">\n",
       "      <th></th>\n",
       "      <th>cylinders</th>\n",
       "      <th>odometer</th>\n",
       "      <th>lat</th>\n",
       "      <th>long</th>\n",
       "      <th>age</th>\n",
       "      <th>region</th>\n",
       "      <th>manufacturer</th>\n",
       "      <th>model</th>\n",
       "      <th>condition</th>\n",
       "      <th>fuel</th>\n",
       "      <th>transmission</th>\n",
       "      <th>VIN</th>\n",
       "      <th>drive</th>\n",
       "      <th>type</th>\n",
       "      <th>paint_color</th>\n",
       "      <th>description</th>\n",
       "      <th>state</th>\n",
       "      <th>posting_date</th>\n",
       "    </tr>\n",
       "  </thead>\n",
       "  <tbody>\n",
       "    <tr>\n",
       "      <th>56694</th>\n",
       "      <td>6.0</td>\n",
       "      <td>58402.0</td>\n",
       "      <td>38.5495</td>\n",
       "      <td>-90.3811</td>\n",
       "      <td>4.0</td>\n",
       "      <td>st louis, MO</td>\n",
       "      <td>chrysler</td>\n",
       "      <td>300 s</td>\n",
       "      <td>excellent</td>\n",
       "      <td>gas</td>\n",
       "      <td>automatic</td>\n",
       "      <td>2C3CCABG6HH553736</td>\n",
       "      <td>rwd</td>\n",
       "      <td>sedan</td>\n",
       "      <td>black</td>\n",
       "      <td>2017 CHRYSLER 300 S You will not find a cleane...</td>\n",
       "      <td>il</td>\n",
       "      <td>2020-12-02T15:00:00-0600</td>\n",
       "    </tr>\n",
       "  </tbody>\n",
       "</table>\n",
       "</div>"
      ],
      "text/plain": [
       "       cylinders  odometer      lat     long  age        region manufacturer  \\\n",
       "56694        6.0   58402.0  38.5495 -90.3811  4.0  st louis, MO     chrysler   \n",
       "\n",
       "       model  condition fuel transmission                VIN drive   type  \\\n",
       "56694  300 s  excellent  gas    automatic  2C3CCABG6HH553736   rwd  sedan   \n",
       "\n",
       "      paint_color                                        description state  \\\n",
       "56694       black  2017 CHRYSLER 300 S You will not find a cleane...    il   \n",
       "\n",
       "                   posting_date  \n",
       "56694  2020-12-02T15:00:00-0600  "
      ]
     },
     "execution_count": 69,
     "metadata": {},
     "output_type": "execute_result"
    }
   ],
   "source": [
    "X_train_joined.head(1)"
   ]
  },
  {
   "cell_type": "code",
   "execution_count": 70,
   "metadata": {},
   "outputs": [
    {
     "data": {
      "image/png": "[encoded data removed]",
      "text/plain": [
       "<Figure size 432x288 with 1 Axes>"
      ]
     },
     "metadata": {
      "needs_background": "light"
     },
     "output_type": "display_data"
    }
   ],
   "source": [
    "plt.plot(pd.concat([X_train_joined,y_train],axis=1).groupby(['age']).mean()['price'],'--or')\n",
    "plt.xlabel('Age')\n",
    "plt.ylabel('Price')\n",
    "plt.title('Age vs Price')\n",
    "plt.show()"
   ]
  },
  {
   "cell_type": "code",
   "execution_count": 88,
   "metadata": {},
   "outputs": [],
   "source": [
    "# the above trend shows that as the AGE of car increases PRICE of the car decrease."
   ]
  },
  {
   "cell_type": "code",
   "execution_count": 71,
   "metadata": {},
   "outputs": [
    {
     "data": {
      "text/plain": [
       "<matplotlib.axes._subplots.AxesSubplot at 0x1938a58bb80>"
      ]
     },
     "execution_count": 71,
     "metadata": {},
     "output_type": "execute_result"
    },
    {
     "data": {
      "image/png": "[encoded data removed]",
      "text/plain": [
       "<Figure size 432x288 with 1 Axes>"
      ]
     },
     "metadata": {
      "needs_background": "light"
     },
     "output_type": "display_data"
    }
   ],
   "source": [
    "sns.scatterplot(pd.concat([X_train_joined,y_train],axis=1)['odometer'],pd.concat([X_train_joined,y_train],axis=1)['age'])"
   ]
  },
  {
   "cell_type": "code",
   "execution_count": 72,
   "metadata": {},
   "outputs": [
    {
     "data": {
      "image/png": "[encoded data removed]",
      "text/plain": [
       "<Figure size 432x288 with 1 Axes>"
      ]
     },
     "metadata": {
      "needs_background": "light"
     },
     "output_type": "display_data"
    }
   ],
   "source": [
    "plt.plot(pd.concat([X_train_joined,y_train],axis=1).groupby(['age']).mean()['odometer'],'--ob')  \n",
    "plt.xlabel('Age')\n",
    "plt.ylabel('Odometer')\n",
    "plt.title('Age vs Odometer')\n",
    "plt.show()"
   ]
  },
  {
   "cell_type": "raw",
   "metadata": {},
   "source": [
    "# Here the general trend is that when the age increasing the odometer reading is also increasing...but in the case between 0-1 years there are some cars which have driven the most "
   ]
  },
  {
   "cell_type": "code",
   "execution_count": 73,
   "metadata": {},
   "outputs": [
    {
     "data": {
      "image/png": "[encoded data removed]",
      "text/plain": [
       "<Figure size 864x576 with 2 Axes>"
      ]
     },
     "metadata": {
      "needs_background": "light"
     },
     "output_type": "display_data"
    }
   ],
   "source": [
    "plt.figure(figsize=(12,8))\n",
    "sns.heatmap(pd.concat([X_train_joined,y_train],axis=1).sort_values(by='price')[['price','odometer','age']].corr(),annot=True,cmap='coolwarm')\n",
    "plt.title('Correleation between the feature')\n",
    "plt.show()"
   ]
  },
  {
   "cell_type": "code",
   "execution_count": 75,
   "metadata": {},
   "outputs": [
    {
     "data": {
      "image/png": "[encoded data removed]",
      "text/plain": [
       "<Figure size 864x576 with 2 Axes>"
      ]
     },
     "metadata": {
      "needs_background": "light"
     },
     "output_type": "display_data"
    }
   ],
   "source": [
    "plt.figure(figsize=(12,8))\n",
    "sns.heatmap(pd.concat([X_train_joined,y_train],axis=1).corr(),annot=True,cmap='viridis')\n",
    "plt.title('Correleation between the feature')\n",
    "plt.show()"
   ]
  },
  {
   "cell_type": "markdown",
   "metadata": {},
   "source": [
    "#from the above correlation matrix we came to know about the following insights :\n",
    "1) : price and age of the car are negatively correlated means as the age of car increases price of the car decrease.\n",
    "2) : odometre and price are also negatively correlated means according to distance travelled of the car its price also increase.\n",
    "3) : age and odometer are positively correlated means distance travelled of the car increase as the age of car increased"
   ]
  },
  {
   "cell_type": "markdown",
   "metadata": {},
   "source": [
    "# Getting the idea of the distribution of the  data of the Categorical Feature"
   ]
  },
  {
   "cell_type": "code",
   "execution_count": 77,
   "metadata": {},
   "outputs": [
    {
     "data": {
      "text/html": [
       "<div>\n",
       "<style scoped>\n",
       "    .dataframe tbody tr th:only-of-type {\n",
       "        vertical-align: middle;\n",
       "    }\n",
       "\n",
       "    .dataframe tbody tr th {\n",
       "        vertical-align: top;\n",
       "    }\n",
       "\n",
       "    .dataframe thead th {\n",
       "        text-align: right;\n",
       "    }\n",
       "</style>\n",
       "<table border=\"1\" class=\"dataframe\">\n",
       "  <thead>\n",
       "    <tr style=\"text-align: right;\">\n",
       "      <th></th>\n",
       "      <th>cylinders</th>\n",
       "      <th>odometer</th>\n",
       "      <th>lat</th>\n",
       "      <th>long</th>\n",
       "      <th>age</th>\n",
       "      <th>region</th>\n",
       "      <th>manufacturer</th>\n",
       "      <th>model</th>\n",
       "      <th>condition</th>\n",
       "      <th>fuel</th>\n",
       "      <th>transmission</th>\n",
       "      <th>VIN</th>\n",
       "      <th>drive</th>\n",
       "      <th>type</th>\n",
       "      <th>paint_color</th>\n",
       "      <th>description</th>\n",
       "      <th>state</th>\n",
       "      <th>posting_date</th>\n",
       "    </tr>\n",
       "  </thead>\n",
       "  <tbody>\n",
       "    <tr>\n",
       "      <th>56694</th>\n",
       "      <td>6.0</td>\n",
       "      <td>58402.0</td>\n",
       "      <td>38.549500</td>\n",
       "      <td>-90.38110</td>\n",
       "      <td>4.0</td>\n",
       "      <td>st louis, MO</td>\n",
       "      <td>chrysler</td>\n",
       "      <td>300 s</td>\n",
       "      <td>excellent</td>\n",
       "      <td>gas</td>\n",
       "      <td>automatic</td>\n",
       "      <td>2C3CCABG6HH553736</td>\n",
       "      <td>rwd</td>\n",
       "      <td>sedan</td>\n",
       "      <td>black</td>\n",
       "      <td>2017 CHRYSLER 300 S You will not find a cleane...</td>\n",
       "      <td>il</td>\n",
       "      <td>2020-12-02T15:00:00-0600</td>\n",
       "    </tr>\n",
       "    <tr>\n",
       "      <th>74859</th>\n",
       "      <td>4.0</td>\n",
       "      <td>73920.0</td>\n",
       "      <td>46.574457</td>\n",
       "      <td>-120.49054</td>\n",
       "      <td>3.0</td>\n",
       "      <td>yakima</td>\n",
       "      <td>chevrolet</td>\n",
       "      <td>malibu</td>\n",
       "      <td>good</td>\n",
       "      <td>gas</td>\n",
       "      <td>automatic</td>\n",
       "      <td>1G1ZD5ST9JF198066</td>\n",
       "      <td>fwd</td>\n",
       "      <td>sedan</td>\n",
       "      <td>white</td>\n",
       "      <td>2018 Chevrolet Chevy Malibu LT Sedan 4D     Of...</td>\n",
       "      <td>wa</td>\n",
       "      <td>2020-11-20T10:38:55-0800</td>\n",
       "    </tr>\n",
       "  </tbody>\n",
       "</table>\n",
       "</div>"
      ],
      "text/plain": [
       "       cylinders  odometer        lat       long  age        region  \\\n",
       "56694        6.0   58402.0  38.549500  -90.38110  4.0  st louis, MO   \n",
       "74859        4.0   73920.0  46.574457 -120.49054  3.0        yakima   \n",
       "\n",
       "      manufacturer   model  condition fuel transmission                VIN  \\\n",
       "56694     chrysler   300 s  excellent  gas    automatic  2C3CCABG6HH553736   \n",
       "74859    chevrolet  malibu       good  gas    automatic  1G1ZD5ST9JF198066   \n",
       "\n",
       "      drive   type paint_color  \\\n",
       "56694   rwd  sedan       black   \n",
       "74859   fwd  sedan       white   \n",
       "\n",
       "                                             description state  \\\n",
       "56694  2017 CHRYSLER 300 S You will not find a cleane...    il   \n",
       "74859  2018 Chevrolet Chevy Malibu LT Sedan 4D     Of...    wa   \n",
       "\n",
       "                   posting_date  \n",
       "56694  2020-12-02T15:00:00-0600  \n",
       "74859  2020-11-20T10:38:55-0800  "
      ]
     },
     "execution_count": 77,
     "metadata": {},
     "output_type": "execute_result"
    }
   ],
   "source": [
    "X_train_joined.head(2)"
   ]
  },
  {
   "cell_type": "markdown",
   "metadata": {},
   "source": [
    "### Region"
   ]
  },
  {
   "cell_type": "code",
   "execution_count": 78,
   "metadata": {
    "scrolled": true
   },
   "outputs": [
    {
     "data": {
      "image/png": "[encoded data removed]",
      "text/plain": [
       "<Figure size 432x288 with 1 Axes>"
      ]
     },
     "metadata": {
      "needs_background": "light"
     },
     "output_type": "display_data"
    }
   ],
   "source": [
    "X_train_joined['region'].value_counts()[:5].plot(kind='bar')\n",
    "plt.xticks(rotation=85)\n",
    "plt.show()"
   ]
  },
  {
   "cell_type": "code",
   "execution_count": null,
   "metadata": {},
   "outputs": [],
   "source": []
  },
  {
   "cell_type": "markdown",
   "metadata": {},
   "source": [
    "### Manufacturer"
   ]
  },
  {
   "cell_type": "code",
   "execution_count": 79,
   "metadata": {},
   "outputs": [
    {
     "data": {
      "image/png": "[encoded data removed]",
      "text/plain": [
       "<Figure size 1008x576 with 1 Axes>"
      ]
     },
     "metadata": {
      "needs_background": "light"
     },
     "output_type": "display_data"
    }
   ],
   "source": [
    "plt.subplots(figsize=(14,8))\n",
    "sns.countplot(X_train_joined['manufacturer'])\n",
    "plt.xticks(rotation=50)\n",
    "plt.xlabel('manufacturer')\n",
    "plt.ylabel('manufacturer count')\n",
    "plt.show()"
   ]
  },
  {
   "cell_type": "code",
   "execution_count": null,
   "metadata": {},
   "outputs": [],
   "source": [
    "# from the above graph The manufacture which produce the max no. of cars is ford"
   ]
  },
  {
   "cell_type": "markdown",
   "metadata": {},
   "source": [
    "### Condition"
   ]
  },
  {
   "cell_type": "code",
   "execution_count": 80,
   "metadata": {},
   "outputs": [
    {
     "data": {
      "image/png": "[encoded data removed]",
      "text/plain": [
       "<Figure size 1008x576 with 1 Axes>"
      ]
     },
     "metadata": {
      "needs_background": "light"
     },
     "output_type": "display_data"
    }
   ],
   "source": [
    "plt.subplots(figsize=(14,8))\n",
    "sns.countplot(X_train_joined['condition'])\n",
    "plt.xlabel('Condition')\n",
    "plt.ylabel('Condition count')\n",
    "plt.show()"
   ]
  },
  {
   "cell_type": "code",
   "execution_count": null,
   "metadata": {},
   "outputs": [],
   "source": [
    "# from the above graph we found that most of the cars in good condition"
   ]
  },
  {
   "cell_type": "markdown",
   "metadata": {},
   "source": [
    "### Fuel"
   ]
  },
  {
   "cell_type": "code",
   "execution_count": 81,
   "metadata": {},
   "outputs": [
    {
     "data": {
      "image/png": "[encoded data removed]",
      "text/plain": [
       "<Figure size 504x504 with 1 Axes>"
      ]
     },
     "metadata": {},
     "output_type": "display_data"
    }
   ],
   "source": [
    "X_train_joined['fuel'].value_counts().plot(kind='pie',autopct='%1.0f%%',figsize=(7,7))\n",
    "plt.show()"
   ]
  },
  {
   "cell_type": "code",
   "execution_count": null,
   "metadata": {},
   "outputs": [],
   "source": [
    "# as we can see from the above graph Most of the cars runs on petrol."
   ]
  },
  {
   "cell_type": "markdown",
   "metadata": {},
   "source": [
    "### Type"
   ]
  },
  {
   "cell_type": "code",
   "execution_count": 82,
   "metadata": {},
   "outputs": [
    {
     "data": {
      "image/png": "[encoded data removed]",
      "text/plain": [
       "<Figure size 1008x576 with 1 Axes>"
      ]
     },
     "metadata": {
      "needs_background": "light"
     },
     "output_type": "display_data"
    }
   ],
   "source": [
    "plt.subplots(figsize=(14,8))\n",
    "sns.countplot(X_train_joined['type'])\n",
    "plt.xlabel('type')\n",
    "plt.ylabel('type count')\n",
    "plt.show()"
   ]
  },
  {
   "cell_type": "code",
   "execution_count": null,
   "metadata": {},
   "outputs": [],
   "source": [
    "# from the above we have Max. type of vehicle are sedan"
   ]
  },
  {
   "cell_type": "markdown",
   "metadata": {},
   "source": [
    "### Model"
   ]
  },
  {
   "cell_type": "code",
   "execution_count": 83,
   "metadata": {},
   "outputs": [
    {
     "data": {
      "image/png": "[encoded data removed]",
      "text/plain": [
       "<Figure size 432x288 with 1 Axes>"
      ]
     },
     "metadata": {
      "needs_background": "light"
     },
     "output_type": "display_data"
    }
   ],
   "source": [
    "\n",
    "X_train_joined['model'].value_counts()[:5].plot(kind='bar')\n",
    "plt.show()"
   ]
  },
  {
   "cell_type": "markdown",
   "metadata": {},
   "source": [
    "### Transmission"
   ]
  },
  {
   "cell_type": "code",
   "execution_count": 84,
   "metadata": {
    "scrolled": true
   },
   "outputs": [
    {
     "data": {
      "image/png": "[encoded data removed]",
      "text/plain": [
       "<Figure size 432x432 with 1 Axes>"
      ]
     },
     "metadata": {},
     "output_type": "display_data"
    }
   ],
   "source": [
    "X_train_joined['transmission'].value_counts().plot(kind='pie',autopct='%1.0f%%',figsize=(6,6))\n",
    "plt.show()"
   ]
  },
  {
   "cell_type": "code",
   "execution_count": null,
   "metadata": {},
   "outputs": [],
   "source": [
    "#it's clear from the above graph we have mx car i.e 82% cars are automatic "
   ]
  },
  {
   "cell_type": "markdown",
   "metadata": {},
   "source": [
    "### Drive"
   ]
  },
  {
   "cell_type": "code",
   "execution_count": 85,
   "metadata": {},
   "outputs": [
    {
     "data": {
      "image/png": "[encoded data removed]",
      "text/plain": [
       "<Figure size 504x504 with 1 Axes>"
      ]
     },
     "metadata": {},
     "output_type": "display_data"
    }
   ],
   "source": [
    "X_train_joined['drive'].value_counts().plot(kind='pie',autopct='%1.0f%%',figsize=(7,7))\n",
    "plt.show()"
   ]
  },
  {
   "cell_type": "code",
   "execution_count": null,
   "metadata": {},
   "outputs": [],
   "source": [
    "# as we can see from the above graph that Max. type of drive transmission is 4 wheel drive (4wd)"
   ]
  },
  {
   "cell_type": "markdown",
   "metadata": {},
   "source": [
    "# Insights "
   ]
  },
  {
   "cell_type": "code",
   "execution_count": 86,
   "metadata": {},
   "outputs": [
    {
     "name": "stdout",
     "output_type": "stream",
     "text": [
      "* The manufacture which produce the max no. of cars =>>  ford\n",
      "* Highest model =>>  f-150\n",
      "* Fuel on which max car run =>>  gas\n",
      "* Max. type of vehicle  =>>  sedan\n",
      "* Max. type of Region  =>>  kennewick-pasco-richland\n",
      "* Max. type of manufacturer  =>>  ford\n",
      "* Max. type of condition  =>>  good\n",
      "* Max. type of Transmission =>>  automatic\n",
      "* Max. type of drive  =>>  4wd\n"
     ]
    }
   ],
   "source": [
    "print('* The manufacture which produce the max no. of cars =>> ',X_train_joined['manufacturer'].value_counts().idxmax())\n",
    "print('* Highest model =>> ',X_train_joined['model'].value_counts().idxmax())\n",
    "print('* Fuel on which max car run =>> ',X_train_joined['fuel'].value_counts().idxmax())\n",
    "print('* Max. type of vehicle  =>> ',X_train_joined['type'].value_counts().idxmax())\n",
    "print('* Max. type of Region  =>> ',X_train_joined['region'].value_counts().idxmax())\n",
    "print('* Max. type of manufacturer  =>> ',X_train_joined['manufacturer'].value_counts().idxmax())\n",
    "print('* Max. type of condition  =>> ',X_train_joined['condition'].value_counts().idxmax())\n",
    "print('* Max. type of Transmission =>> ',X_train_joined['transmission'].value_counts().idxmax())\n",
    "print('* Max. type of drive  =>> ',X_train_joined['drive'].value_counts().idxmax())"
   ]
  },
  {
   "cell_type": "markdown",
   "metadata": {},
   "source": [
    "# Bivariate"
   ]
  },
  {
   "cell_type": "code",
   "execution_count": 87,
   "metadata": {},
   "outputs": [
    {
     "data": {
      "text/plain": [
       "Index(['region', 'manufacturer', 'model', 'condition', 'fuel', 'transmission',\n",
       "       'VIN', 'drive', 'type', 'paint_color', 'description', 'state',\n",
       "       'posting_date'],\n",
       "      dtype='object')"
      ]
     },
     "execution_count": 87,
     "metadata": {},
     "output_type": "execute_result"
    }
   ],
   "source": [
    "X_train_joined.select_dtypes(exclude=np.number).columns"
   ]
  },
  {
   "cell_type": "code",
   "execution_count": null,
   "metadata": {},
   "outputs": [],
   "source": [
    "X_train_joined.select_dtypes(exclude=np.number).head(2)"
   ]
  },
  {
   "cell_type": "code",
   "execution_count": null,
   "metadata": {},
   "outputs": [],
   "source": []
  },
  {
   "cell_type": "code",
   "execution_count": null,
   "metadata": {},
   "outputs": [],
   "source": [
    "pd.crosstab(X_test_joined['type'],X_test_joined['condition']).plot(kind='bar',figsize=(15,7))\n",
    "plt.show()"
   ]
  },
  {
   "cell_type": "code",
   "execution_count": null,
   "metadata": {},
   "outputs": [],
   "source": [
    "pd.crosstab(X_test_joined['type'],X_test_joined['fuel']).plot(kind='bar',figsize=(15,7))\n",
    "plt.show()"
   ]
  },
  {
   "cell_type": "code",
   "execution_count": null,
   "metadata": {},
   "outputs": [],
   "source": [
    "sns.pairplot(pd.concat([X_train_joined,y_train],axis=1),diag_kind='kde',hue='type')\n",
    "plt.show()"
   ]
  },
  {
   "cell_type": "code",
   "execution_count": null,
   "metadata": {},
   "outputs": [],
   "source": []
  }
 ],
 "metadata": {
  "kernelspec": {
   "display_name": "Python 3",
   "language": "python",
   "name": "python3"
  },
  "language_info": {
   "codemirror_mode": {
    "name": "ipython",
    "version": 3
   },
   "file_extension": ".py",
   "mimetype": "text/x-python",
   "name": "python",
   "nbconvert_exporter": "python",
   "pygments_lexer": "ipython3",
   "version": "3.8.3"
  }
 },
 "nbformat": 4,
 "nbformat_minor": 2
}
